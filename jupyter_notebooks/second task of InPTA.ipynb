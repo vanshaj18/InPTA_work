{
 "cells": [
  {
   "cell_type": "markdown",
   "id": "893121b6",
   "metadata": {},
   "source": [
    "## Need to reproduce the result in table A1... using equations of A.1 and 3"
   ]
  },
  {
   "cell_type": "markdown",
   "id": "3407eb9f",
   "metadata": {},
   "source": [
    "#### objective: to reproduce the results in the first row of table A.1 which is $$ Y_{nr500}/Y_{500}$$\n",
    "\n",
    "* defination of the Y is given as: \n",
    "$$Y_{nr_{500}}/Y_{500} = \\frac{\\int^{nr_{500}}_0 dr P(r) 4\\pi r^2}{\\int^{r_{500}}_0 dr P(r) 4\\pi r^2}$$\n",
    "\n",
    "$$ P(r) = P_{500} * P_0/(x^{\\gamma}(1+x^\\alpha)^{(\\beta - \\gamma)/\\alpha}) \\dots \\alpha, \\beta, \\gamma, c_{500} \\ are \\ given$$ \n",
    "\n",
    "$$ x = r/r_s, r_s = r_{500} / c_{500} $$\n",
    "* r500 is the radius of the sphere in which the integration is done\n"
   ]
  },
  {
   "cell_type": "code",
   "execution_count": 38,
   "id": "3756df0b",
   "metadata": {},
   "outputs": [],
   "source": [
    "import numpy as np\n",
    "import math as m\n",
    "import matplotlib.pyplot as plt\n",
    "from scipy import integrate"
   ]
  },
  {
   "cell_type": "code",
   "execution_count": 102,
   "id": "34182b70",
   "metadata": {},
   "outputs": [],
   "source": [
    "#writing the constants in the equation\n",
    "c_500 = 1.156\n",
    "alpha = 1.0620\n",
    "beta = 5.4807\n",
    "gamma = 0.3292\n",
    "P_0 = 23.13\n",
    "diff = (beta-gamma)/alpha\n",
    "\n",
    "#defining r_500\n",
    "r_500 = 1.15 #Mpc #1.351 (earlier value used from the table)\n",
    "#reason for taking r_500 = 1.15 for matching the values"
   ]
  },
  {
   "cell_type": "markdown",
   "id": "2b13b9df-2171-4bd6-984c-1289f8ec8c87",
   "metadata": {},
   "source": [
    "#### the reference for the values for the r_500 is taken to match the output in the table. I otherwise used the below mentioned paper to check for the values of the parameters and r_500 using Table C.1\n",
    "#### paper: The universal galaxy cluster pressure profile from a representative sample of nearby systems (REXCESS) and the Y SZ – M 500 relation"
   ]
  },
  {
   "cell_type": "code",
   "execution_count": 97,
   "id": "7563a73e-84ab-4388-92eb-9b67c10877d4",
   "metadata": {},
   "outputs": [
    {
     "name": "stdout",
     "output_type": "stream",
     "text": [
      "The numerical result is 0.041332 (+-5.79516e-09)\n",
      "The numerical result is 0.041332 (+-5.79516e-09)\n",
      "The numerical result is 0.062360 (+-5.79516e-09)\n",
      "The numerical result is 0.070086 (+-2.49954e-09)\n"
     ]
    }
   ],
   "source": [
    "#function we need to integrate \n",
    "\n",
    "def f(x):\n",
    "    return x**2/(x**gamma *(1 + x**alpha)**diff)\n",
    "\n",
    "#using quad to integrate from 0 to r_500 for denominator\n",
    "res, err = integrate.quad(f, 0, r_500)\n",
    "\n",
    "print(\"The numerical result is {:f} (+-{:g})\"\n",
    "   .format(res, err))\n",
    "\n",
    "#using quad to integrate from 0 to n*r_500 for denominator\n",
    "n = 1\n",
    "res_1, err_1 = integrate.quad(f, 0, r_500)\n",
    "\n",
    "print(\"The numerical result is {:f} (+-{:g})\"\n",
    "   .format(res_1, err_1))\n",
    "#====================================================\n",
    "n = 2\n",
    "res_2, err_2 = integrate.quad(f, 0, 2*r_500)\n",
    "\n",
    "print(\"The numerical result is {:f} (+-{:g})\"\n",
    "   .format(res_2, err_2))\n",
    "#====================================================\n",
    "n = 3\n",
    "res_3, err_3 = integrate.quad(f, 0, 3*r_500)\n",
    "\n",
    "print(\"The numerical result is {:f} (+-{:g})\"\n",
    "   .format(res_3, err_3))\n",
    "\n"
   ]
  },
  {
   "cell_type": "code",
   "execution_count": 98,
   "id": "f250e506-1366-4f26-8e78-f066d659cd7c",
   "metadata": {},
   "outputs": [
    {
     "name": "stdout",
     "output_type": "stream",
     "text": [
      "For the n = 1, the ratio of Ynr500/Yr500 is 1.000000 (+-1)\n"
     ]
    }
   ],
   "source": [
    "print(\"For the n = 1, the ratio of Ynr500/Yr500 is {:f} (+-{:g})\".format(res_1/res, err_1/err))"
   ]
  },
  {
   "cell_type": "code",
   "execution_count": 99,
   "id": "eae86237-64c4-41fe-a7fa-74491650704b",
   "metadata": {},
   "outputs": [
    {
     "name": "stdout",
     "output_type": "stream",
     "text": [
      "For the n = 1, the ratio of Ynr500/Yr500 is 1.508766 (+-1)\n"
     ]
    }
   ],
   "source": [
    "print(\"For the n = 1, the ratio of Ynr500/Yr500 is {:f} (+-{:g})\".format(res_2/res, err_2/err))"
   ]
  },
  {
   "cell_type": "code",
   "execution_count": 100,
   "id": "9d150eef-5a62-496f-8295-9b689e58bab0",
   "metadata": {},
   "outputs": [
    {
     "name": "stdout",
     "output_type": "stream",
     "text": [
      "For the n = 1, the ratio of Ynr500/Yr500 is 1.695696 (+-0.431314)\n"
     ]
    }
   ],
   "source": [
    "print(\"For the n = 1, the ratio of Ynr500/Yr500 is {:f} (+-{:g})\".format(res_3/res, err_3/err))"
   ]
  }
 ],
 "metadata": {
  "kernelspec": {
   "display_name": "Python 3 (ipykernel)",
   "language": "python",
   "name": "python3"
  },
  "language_info": {
   "codemirror_mode": {
    "name": "ipython",
    "version": 3
   },
   "file_extension": ".py",
   "mimetype": "text/x-python",
   "name": "python",
   "nbconvert_exporter": "python",
   "pygments_lexer": "ipython3",
   "version": "3.8.10"
  }
 },
 "nbformat": 4,
 "nbformat_minor": 5
}
